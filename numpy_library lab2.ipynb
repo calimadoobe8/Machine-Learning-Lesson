{
 "cells": [
  {
   "cell_type": "code",
   "execution_count": 23,
   "id": "69ca5eba",
   "metadata": {},
   "outputs": [
    {
     "name": "stdout",
     "output_type": "stream",
     "text": [
      "[4, 1, 0, 9, 6]\n",
      "[2 3 1]\n"
     ]
    }
   ],
   "source": [
    "a = [4, 1, 0, 9, 6] # this is creating normal array that we know\n",
    "print(a)  \n",
    "\n",
    "\n",
    "array1 = np.array([2, 3, 1,])  # creating array using np method \n",
    "print(array1)\n"
   ]
  },
  {
   "cell_type": "code",
   "execution_count": 22,
   "id": "fd6094c9",
   "metadata": {},
   "outputs": [
    {
     "name": "stdout",
     "output_type": "stream",
     "text": [
      "(10,)\n"
     ]
    }
   ],
   "source": [
    "# i can make many operations using numpy library \n",
    "\n",
    "array2 = np.array([1, 3, 4, 5, 5, 6, 1, 4, 11, 22,])\n",
    "print(array2.shape)  # this will print number of elements in the array\n",
    "\n"
   ]
  },
  {
   "cell_type": "code",
   "execution_count": 2,
   "id": "8d0dfbab",
   "metadata": {},
   "outputs": [],
   "source": [
    "import numpy as np #impoting numpy and then call it np as short name"
   ]
  },
  {
   "cell_type": "code",
   "execution_count": 28,
   "id": "898a8e5a",
   "metadata": {},
   "outputs": [
    {
     "name": "stdout",
     "output_type": "stream",
     "text": [
      "[[ 1  3  4  5  5]\n",
      " [ 6  1  4 11 22]]\n"
     ]
    }
   ],
   "source": [
    "# can reshape the arry also\n",
    "\n",
    "arr = array2.reshape(2,5)  \n",
    "print(arr)"
   ]
  },
  {
   "cell_type": "code",
   "execution_count": 32,
   "id": "d93cf8c0",
   "metadata": {},
   "outputs": [
    {
     "name": "stdout",
     "output_type": "stream",
     "text": [
      "[[2 1 3]\n",
      " [1 4 5]\n",
      " [2 4 6]\n",
      " [9 8 1]]\n",
      "(4, 3)\n"
     ]
    }
   ],
   "source": [
    "# i can create any shape i want before creating it         example\n",
    "\n",
    "arr2 = np.array([[2, 1, 3], [1, 4, 5], [2, 4, 6], [9, 8, 1]]) \n",
    "\n",
    "print(arr2.shape)"
   ]
  },
  {
   "cell_type": "code",
   "execution_count": 53,
   "id": "47a675ac",
   "metadata": {},
   "outputs": [
    {
     "name": "stdout",
     "output_type": "stream",
     "text": [
      "[[0. 0. 0.]\n",
      " [0. 0. 0.]\n",
      " [0. 0. 0.]\n",
      " [0. 0. 0.]\n",
      " [0. 0. 0.]]\n",
      "[[ 0.  0.  0.]\n",
      " [ 0.  0.  0.]\n",
      " [ 0.  0.  0.]\n",
      " [ 0.  0. 12.]\n",
      " [ 0.  0.  0.]]\n",
      "[[1. 1. 1. 1.]\n",
      " [1. 1. 1. 1.]\n",
      " [1. 1. 1. 1.]]\n"
     ]
    }
   ],
   "source": [
    "# if i want to create matrix containing zeros elements then my puting what you want \n",
    "allzeros= np.zeros((5, 3))\n",
    "print(allzeros)\n",
    "\n",
    "#exple here i can assing one of these index to any value i want\n",
    "allzeros[3, 2] = 12\n",
    "print(allzeros)\n",
    "\n",
    "\n",
    "#also i can create array of ones\n",
    "\n",
    "ones = np.ones((3, 4))\n",
    "print(ones)"
   ]
  },
  {
   "cell_type": "code",
   "execution_count": 48,
   "id": "7497371c",
   "metadata": {},
   "outputs": [
    {
     "name": "stdout",
     "output_type": "stream",
     "text": [
      "[[ 1  3  5  2]\n",
      " [ 4  3  1  4]\n",
      " [ 9 10  8  7]]\n",
      "the shape of the array is : (3, 4)\n",
      "the dimension of the array is 2\n"
     ]
    }
   ],
   "source": [
    "crearray = np.array([[1, 3, 5, 2], [4, 3, 1, 4], [9, 10, 8, 7]])\n",
    "print(crearray)\n",
    "\n",
    "print(\"the shape of the array is :\",crearray.shape)  #array shape\n",
    "print(\"the dimension of the array is\",crearray.ndim)    # here the geting the dimension of the array\n"
   ]
  },
  {
   "cell_type": "code",
   "execution_count": 51,
   "id": "c74cc2ad",
   "metadata": {},
   "outputs": [
    {
     "name": "stdout",
     "output_type": "stream",
     "text": [
      "int32\n",
      "the size of the array is : 12\n"
     ]
    }
   ],
   "source": [
    "#getting the data type of the array\n",
    "print(crearray.dtype.name)    \n",
    "print(\"the size of the array is :\", crearray.size) # geting the size of the array"
   ]
  },
  {
   "cell_type": "code",
   "execution_count": 55,
   "id": "3c5f822e",
   "metadata": {},
   "outputs": [
    {
     "data": {
      "text/plain": [
       "array([[1.03163589e-311, 1.01283457e-321, 0.00000000e+000,\n",
       "        0.00000000e+000, 7.56599806e-307, 1.16097020e-028],\n",
       "       [1.26087994e-076, 2.67489366e-028, 3.85216362e-057,\n",
       "        1.04917183e-153, 5.23081515e-143, 1.18917068e-047],\n",
       "       [3.69484090e-057, 6.74932338e-067, 4.89034219e-033,\n",
       "        1.70098498e+256, 5.49109388e-143, 1.06396443e+224],\n",
       "       [3.96041428e+246, 1.16318408e-028, 1.78577854e-051,\n",
       "        5.04245242e+174, 2.92868076e-057, 1.85429551e-051],\n",
       "       [1.01848862e+248, 1.16096643e-028, 9.80058441e+252,\n",
       "        7.50189709e+247, 1.14484251e+243, 2.59903827e-144]])"
      ]
     },
     "execution_count": 55,
     "metadata": {},
     "output_type": "execute_result"
    }
   ],
   "source": [
    "np.empty((5, 6))    #here is for creating empty array , these value are close to zero"
   ]
  },
  {
   "cell_type": "code",
   "execution_count": 64,
   "id": "b279a31e",
   "metadata": {},
   "outputs": [
    {
     "data": {
      "text/plain": [
       "array([12, 15, 18, 21, 24, 27, 30, 33, 36, 39, 42])"
      ]
     },
     "execution_count": 64,
     "metadata": {},
     "output_type": "execute_result"
    }
   ],
   "source": [
    "np.arange(12, 44, 3)  #it will print numbers between 12 to 44 adding 3 in each time"
   ]
  },
  {
   "cell_type": "code",
   "execution_count": 71,
   "id": "3d39e8ef",
   "metadata": {},
   "outputs": [
    {
     "data": {
      "text/plain": [
       "array([ 4.        ,  4.57142857,  5.14285714,  5.71428571,  6.28571429,\n",
       "        6.85714286,  7.42857143,  8.        ,  8.57142857,  9.14285714,\n",
       "        9.71428571, 10.28571429, 10.85714286, 11.42857143, 12.        ])"
      ]
     },
     "execution_count": 71,
     "metadata": {},
     "output_type": "execute_result"
    }
   ],
   "source": [
    "np.linspace(4,12,15) # this will print 15 numbers from 4 to 12"
   ]
  },
  {
   "cell_type": "code",
   "execution_count": 76,
   "id": "f3e83e52",
   "metadata": {},
   "outputs": [
    {
     "name": "stdout",
     "output_type": "stream",
     "text": [
      "[ 2 12 25]\n",
      "[ 3  7 10] [-1 -1  0]\n"
     ]
    }
   ],
   "source": [
    "#numpy for operations\n",
    "x = np.array([1, 3, 5])\n",
    "y = np.array([2, 4, 5])\n",
    "\n",
    "print(x*y)\n",
    "print(x + y, x-y)\n",
    "#and so on"
   ]
  },
  {
   "cell_type": "code",
   "execution_count": 83,
   "id": "f8b65b58",
   "metadata": {},
   "outputs": [
    {
     "name": "stdout",
     "output_type": "stream",
     "text": [
      "[2 3 4 4 1 6]\n"
     ]
    }
   ],
   "source": [
    "c = np.array([[2, 3, 4], [4, 1, 6]])\n",
    "\n",
    "#print(c)\n",
    "\n",
    "c = c.ravel()  # this will make the 2D into 1D array\n",
    "print(c)"
   ]
  },
  {
   "cell_type": "code",
   "execution_count": 87,
   "id": "b1995380",
   "metadata": {},
   "outputs": [
    {
     "name": "stdout",
     "output_type": "stream",
     "text": [
      "[3 5 2 1] [ 3 10 12  1]\n",
      "[ 2 10 12  1] [ 2 10 12  1] [ 2 10 12  1]\n"
     ]
    }
   ],
   "source": [
    "a =np.array([3, 5, 2, 1])\n",
    "b = np.array([3, 10 , 12, 1])\n",
    "\n",
    "print(a, b)\n",
    "\n",
    "a = b\n",
    "\n",
    "z= b\n",
    "\n",
    "z [0]= 2\n",
    "\n",
    "print(a, b, z)\n",
    "# this will make changes to all index of the all variables because np.array is storing the address of the variabls\n",
    "#so if change the address then it affect it\n",
    "\n"
   ]
  },
  {
   "cell_type": "code",
   "execution_count": 91,
   "id": "d70d4ced",
   "metadata": {},
   "outputs": [
    {
     "name": "stdout",
     "output_type": "stream",
     "text": [
      "[ 2 10 12  1]\n"
     ]
    }
   ],
   "source": [
    "d = a.copy() #you can take copy from another variable\n",
    "print(d)"
   ]
  },
  {
   "cell_type": "code",
   "execution_count": 92,
   "id": "47a5034b",
   "metadata": {},
   "outputs": [
    {
     "data": {
      "text/plain": [
       "array([ 1, 12, 10,  2])"
      ]
     },
     "execution_count": 92,
     "metadata": {},
     "output_type": "execute_result"
    }
   ],
   "source": [
    "a[::-1] # it will reverse the array"
   ]
  },
  {
   "cell_type": "code",
   "execution_count": 93,
   "id": "e1cd7ba5",
   "metadata": {},
   "outputs": [
    {
     "data": {
      "text/plain": [
       "array([2])"
      ]
     },
     "execution_count": 93,
     "metadata": {},
     "output_type": "execute_result"
    }
   ],
   "source": [
    "a[:1]  #inclusive and exclusive"
   ]
  },
  {
   "cell_type": "code",
   "execution_count": 94,
   "id": "24fc9239",
   "metadata": {},
   "outputs": [
    {
     "data": {
      "text/plain": [
       "array([ 2, 10, 12,  1])"
      ]
     },
     "execution_count": 94,
     "metadata": {},
     "output_type": "execute_result"
    }
   ],
   "source": [
    " a.T  # transpose array"
   ]
  },
  {
   "cell_type": "code",
   "execution_count": null,
   "id": "8c9917ec",
   "metadata": {},
   "outputs": [],
   "source": []
  }
 ],
 "metadata": {
  "kernelspec": {
   "display_name": "Python 3 (ipykernel)",
   "language": "python",
   "name": "python3"
  },
  "language_info": {
   "codemirror_mode": {
    "name": "ipython",
    "version": 3
   },
   "file_extension": ".py",
   "mimetype": "text/x-python",
   "name": "python",
   "nbconvert_exporter": "python",
   "pygments_lexer": "ipython3",
   "version": "3.9.13"
  }
 },
 "nbformat": 4,
 "nbformat_minor": 5
}
