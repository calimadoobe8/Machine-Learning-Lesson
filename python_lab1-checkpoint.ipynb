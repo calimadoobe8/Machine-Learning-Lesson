{
 "cells": [
  {
   "cell_type": "code",
   "execution_count": 2,
   "id": "dad420d4",
   "metadata": {},
   "outputs": [
    {
     "name": "stdout",
     "output_type": "stream",
     "text": [
      "32\n",
      "32 2.21 ali muse\n"
     ]
    }
   ],
   "source": [
    "#defining variable\n",
    "var1 = 32 #integer\n",
    "var2 = 2.21 #float\n",
    "var3 = \"ali\" #string with\n",
    "var4 = 'muse' #string\n",
    "\n",
    "#printing the variables\n",
    "#there are different ways that I can print  them\n",
    "print(var1) #this is printing just one variable\n",
    "print(var1, var2, var3, var4) #like this I can print all of the variables and so on\n"
   ]
  },
  {
   "cell_type": "code",
   "execution_count": 12,
   "id": "993641fa",
   "metadata": {},
   "outputs": [
    {
     "name": "stdout",
     "output_type": "stream",
     "text": [
      "[2, 5, 5, 11, 9, 8, 10]\n",
      "<class 'list'>\n",
      "['Ali', 1.76, 'ahmed', 1.78, 'farah', 2]\n",
      "ahmed\n",
      "['Ali', 1.76, 'ahmed', 1.78]\n",
      "['Ali', 1.76, 'ahmed', 1.78, 'farah', 2, 'mahamud']\n",
      "['Ali', 1.76, 'ahmed', 1.78, 'farah', 2, 'mahamud', 99]\n",
      "['Ali', 1.76, 'ahmed', 1.78, 'farah', 2, 'mahamud']\n",
      "['mahamud', 2, 'farah', 1.78, 'ahmed', 1.76, 'Ali']\n"
     ]
    }
   ],
   "source": [
    "#creating a lists\n",
    "int_list = [2, 5, 5, 11, 9, 8, 10] # you can create same data type list like this\n",
    "print(int_list)\n",
    "\n",
    "#printing list type\n",
    "print(type(int_list))\n",
    "\n",
    "#also you can create list that contain different data type\n",
    "karisik_list = ['Ali', 1.76, 'ahmed', 1.78, 'farah', 2]\n",
    "print(karisik_list) #printing the list\n",
    "\n",
    "#I can also print an specific index\n",
    "print(karisik_list[2])\n",
    "\n",
    "#printing from index to anather index \n",
    "print(karisik_list[0:4])  #it will start from zero and it will not include fourht index\n",
    "\n",
    "#appending element to the list like adding\n",
    "karisik_list.append(\"mahamud\")\n",
    "print(karisik_list)\n",
    "\n",
    "karisik_list.append(99)\n",
    "print(karisik_list)\n",
    "\n",
    "#i can delete any element i wnat\n",
    "karisik_list.remove(99)\n",
    "\n",
    "print(karisik_list)\n",
    "\n",
    "# i can reverse\n",
    "karisik_list.reverse()\n",
    "print(karisik_list)"
   ]
  },
  {
   "cell_type": "code",
   "execution_count": 2,
   "id": "c623215b",
   "metadata": {},
   "outputs": [
    {
     "name": "stdout",
     "output_type": "stream",
     "text": [
      "[9, 2, 7, 10, 20, 3]\n",
      "[2, 3, 7, 9, 10, 20]\n"
     ]
    }
   ],
   "source": [
    "#sorting a list\n",
    "pth_list = [9 , 2, 7 , 10, 20, 3]\n",
    "print(pth_list)\n",
    "pth_list.sort()\n",
    "print(pth_list)"
   ]
  },
  {
   "cell_type": "code",
   "execution_count": null,
   "id": "3938e5c8",
   "metadata": {},
   "outputs": [],
   "source": [
    "# for loop\n",
    "for each in range(0,10):\n",
    "    print(each)"
   ]
  },
  {
   "cell_type": "code",
   "execution_count": 3,
   "id": "b3a7c19d",
   "metadata": {},
   "outputs": [
    {
     "name": "stdout",
     "output_type": "stream",
     "text": [
      "2\n"
     ]
    }
   ],
   "source": [
    "minimum = 9\n",
    "for each in pth_list:\n",
    "    if(each < minimum):\n",
    "        minimum = each\n",
    "    else:\n",
    "        continue\n",
    "        \n",
    "print(minimum)"
   ]
  },
  {
   "cell_type": "code",
   "execution_count": 4,
   "id": "86f37f3f",
   "metadata": {},
   "outputs": [
    {
     "name": "stdout",
     "output_type": "stream",
     "text": [
      "0\n",
      "1\n",
      "2\n",
      "3\n",
      "4\n"
     ]
    }
   ],
   "source": [
    "# while loop\n",
    "i = 0\n",
    "while i < 5:\n",
    "    print(i)\n",
    "    i += 1"
   ]
  },
  {
   "cell_type": "code",
   "execution_count": 3,
   "id": "2bd309c8",
   "metadata": {},
   "outputs": [],
   "source": [
    "# defining a function\n",
    "\n",
    "def Area_of_regtangle(w, l):\n",
    "\n",
    "    result = w * l\n",
    "    return result\n",
    " \n",
    "width = 3\n",
    "length = 5\n",
    "area = Area_of_regtangle(width, length)"
   ]
  },
  {
   "cell_type": "code",
   "execution_count": 6,
   "id": "ed8562f9",
   "metadata": {},
   "outputs": [
    {
     "name": "stdout",
     "output_type": "stream",
     "text": [
      "16\n"
     ]
    }
   ],
   "source": [
    "#labda function\n",
    "\n",
    "def calculate(x):\n",
    "    output = x*x\n",
    "    return output\n",
    "\n",
    "result = calculate(2) # normal calling and passing value\n",
    "\n",
    "result1 = lambda x: x*x  #Both functions calculate x squared. but lambda would be a shorter typing.\n",
    "\n",
    "print(result1(4))"
   ]
  },
  {
   "cell_type": "code",
   "execution_count": 16,
   "id": "0bbd10e6",
   "metadata": {},
   "outputs": [
    {
     "name": "stdout",
     "output_type": "stream",
     "text": [
      "{'ahmed': 1.22, 'siyad': 2, 'cihan': 2.1}\n",
      "2\n"
     ]
    },
    {
     "data": {
      "text/plain": [
       "dict_values([1.22, 2, 2.1])"
      ]
     },
     "execution_count": 16,
     "metadata": {},
     "output_type": "execute_result"
    }
   ],
   "source": [
    "#dictionary \n",
    "#When multiple returns are desired, it is useful to use the dictionary under the specific names all of them\n",
    "\n",
    "dictionary = {\"ahmed\":1.22, \"siyad\":2, \"cihan\":2.1}\n",
    "print(dictionary)\n",
    "\n",
    "type(dictionary)\n",
    "\n",
    "print(dictionary[\"siyad\"]) # prints the hight of the siyad\n",
    "\n",
    "dictionary.keys()  #will print key names in the dictionary\n",
    "\n",
    "dictionary.values()  # values of the keys\n"
   ]
  },
  {
   "cell_type": "code",
   "execution_count": 19,
   "id": "25c0cf1c",
   "metadata": {},
   "outputs": [
    {
     "name": "stdout",
     "output_type": "stream",
     "text": [
      "{'farah': 22, 'yusuf': 24, 'yaya': 23}\n",
      "yes\n"
     ]
    }
   ],
   "source": [
    "dc = {\"farah\":22, \"yusuf\":24, \"yaya\":23}\n",
    "print(dc)\n",
    "type(dc)\n",
    "# checking if yusuf in the dc\n",
    "if \"yusuf\" in dc:\n",
    "    print(\"yes\")\n",
    "else:\n",
    "    print(\"no\")"
   ]
  },
  {
   "cell_type": "code",
   "execution_count": null,
   "id": "f483a756",
   "metadata": {},
   "outputs": [],
   "source": []
  }
 ],
 "metadata": {
  "kernelspec": {
   "display_name": "Python 3 (ipykernel)",
   "language": "python",
   "name": "python3"
  },
  "language_info": {
   "codemirror_mode": {
    "name": "ipython",
    "version": 3
   },
   "file_extension": ".py",
   "mimetype": "text/x-python",
   "name": "python",
   "nbconvert_exporter": "python",
   "pygments_lexer": "ipython3",
   "version": "3.9.13"
  }
 },
 "nbformat": 4,
 "nbformat_minor": 5
}
